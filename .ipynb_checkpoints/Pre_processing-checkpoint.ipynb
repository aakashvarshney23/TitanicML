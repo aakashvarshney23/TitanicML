{
 "cells": [
  {
   "cell_type": "markdown",
   "metadata": {},
   "source": [
    "# Titanic Disaster\n",
    "\n",
    "Not much information is known about the titanic disaster. This not infamous disaster happened on April 15th, 1912 after the ship collided with an iceberg during her journey. In this project we are going to discover the underlying traits fro the features that enable people to survive the crash. Among the people survived there were kids, women, and men. We also discover what genger, age group survived the most and the underlying reasoning behind it. "
   ]
  },
  {
   "cell_type": "code",
   "execution_count": 2,
   "metadata": {},
   "outputs": [],
   "source": [
    "import pandas as pd\n",
    "import numpy as np\n",
    "import matplotlib.pyplot as plt\n",
    "%matplotlib inline\n",
    "import seaborn as sns\n",
    "\n",
    "from sklearn.preprocessing import LabelEncoder"
   ]
  },
  {
   "cell_type": "markdown",
   "metadata": {},
   "source": [
    "### Read Training and Test Data"
   ]
  },
  {
   "cell_type": "code",
   "execution_count": 3,
   "metadata": {},
   "outputs": [],
   "source": [
    "train = pd.read_csv('train.csv')\n",
    "test = pd.read_csv('test.csv')"
   ]
  },
  {
   "cell_type": "markdown",
   "metadata": {},
   "source": [
    "### Exploratory Data Analysis\n",
    "\n",
    "Training and Test data have been copied to new variables to avoid the accidental data change. "
   ]
  },
  {
   "cell_type": "code",
   "execution_count": 4,
   "metadata": {},
   "outputs": [],
   "source": [
    "train_e = train.copy()\n",
    "test_e = test.copy()"
   ]
  },
  {
   "cell_type": "code",
   "execution_count": 184,
   "metadata": {},
   "outputs": [
    {
     "data": {
      "text/html": [
       "<div>\n",
       "<style scoped>\n",
       "    .dataframe tbody tr th:only-of-type {\n",
       "        vertical-align: middle;\n",
       "    }\n",
       "\n",
       "    .dataframe tbody tr th {\n",
       "        vertical-align: top;\n",
       "    }\n",
       "\n",
       "    .dataframe thead th {\n",
       "        text-align: right;\n",
       "    }\n",
       "</style>\n",
       "<table border=\"1\" class=\"dataframe\">\n",
       "  <thead>\n",
       "    <tr style=\"text-align: right;\">\n",
       "      <th></th>\n",
       "      <th>Pclass</th>\n",
       "      <th>Age</th>\n",
       "      <th>SibSp</th>\n",
       "      <th>Parch</th>\n",
       "      <th>Fare</th>\n",
       "      <th>Name</th>\n",
       "      <th>Sex</th>\n",
       "      <th>Ticket</th>\n",
       "      <th>Embarked</th>\n",
       "      <th>Survived</th>\n",
       "      <th>FamilyName</th>\n",
       "    </tr>\n",
       "  </thead>\n",
       "  <tbody>\n",
       "    <tr>\n",
       "      <th>548</th>\n",
       "      <td>3</td>\n",
       "      <td>33.0</td>\n",
       "      <td>1</td>\n",
       "      <td>1</td>\n",
       "      <td>20.5250</td>\n",
       "      <td>Goldsmith, Mr. Frank John</td>\n",
       "      <td>male</td>\n",
       "      <td>363291</td>\n",
       "      <td>S</td>\n",
       "      <td>0</td>\n",
       "      <td>Goldsmith</td>\n",
       "    </tr>\n",
       "    <tr>\n",
       "      <th>54</th>\n",
       "      <td>1</td>\n",
       "      <td>65.0</td>\n",
       "      <td>0</td>\n",
       "      <td>1</td>\n",
       "      <td>61.9792</td>\n",
       "      <td>Ostby, Mr. Engelhart Cornelius</td>\n",
       "      <td>male</td>\n",
       "      <td>113509</td>\n",
       "      <td>C</td>\n",
       "      <td>0</td>\n",
       "      <td>Ostby</td>\n",
       "    </tr>\n",
       "  </tbody>\n",
       "</table>\n",
       "</div>"
      ],
      "text/plain": [
       "     Pclass  \\\n",
       "548       3   \n",
       "54        1   \n",
       "\n",
       "      Age  \\\n",
       "548  33.0   \n",
       "54   65.0   \n",
       "\n",
       "     SibSp  \\\n",
       "548      1   \n",
       "54       0   \n",
       "\n",
       "     Parch  \\\n",
       "548      1   \n",
       "54       1   \n",
       "\n",
       "        Fare  \\\n",
       "548  20.5250   \n",
       "54   61.9792   \n",
       "\n",
       "                               Name  \\\n",
       "548       Goldsmith, Mr. Frank John   \n",
       "54   Ostby, Mr. Engelhart Cornelius   \n",
       "\n",
       "      Sex  \\\n",
       "548  male   \n",
       "54   male   \n",
       "\n",
       "     Ticket  \\\n",
       "548  363291   \n",
       "54   113509   \n",
       "\n",
       "    Embarked  \\\n",
       "548        S   \n",
       "54         C   \n",
       "\n",
       "     Survived  \\\n",
       "548         0   \n",
       "54          0   \n",
       "\n",
       "    FamilyName  \n",
       "548  Goldsmith  \n",
       "54       Ostby  "
      ]
     },
     "execution_count": 184,
     "metadata": {},
     "output_type": "execute_result"
    }
   ],
   "source": [
    "train_e.sample(2)"
   ]
  },
  {
   "cell_type": "markdown",
   "metadata": {},
   "source": [
    "Data Dive and quick look at the features"
   ]
  },
  {
   "cell_type": "code",
   "execution_count": 185,
   "metadata": {},
   "outputs": [
    {
     "data": {
      "text/html": [
       "<div>\n",
       "<style scoped>\n",
       "    .dataframe tbody tr th:only-of-type {\n",
       "        vertical-align: middle;\n",
       "    }\n",
       "\n",
       "    .dataframe tbody tr th {\n",
       "        vertical-align: top;\n",
       "    }\n",
       "\n",
       "    .dataframe thead th {\n",
       "        text-align: right;\n",
       "    }\n",
       "</style>\n",
       "<table border=\"1\" class=\"dataframe\">\n",
       "  <thead>\n",
       "    <tr style=\"text-align: right;\">\n",
       "      <th></th>\n",
       "      <th>Pclass</th>\n",
       "      <th>Name</th>\n",
       "      <th>Sex</th>\n",
       "      <th>Age</th>\n",
       "      <th>SibSp</th>\n",
       "      <th>Parch</th>\n",
       "      <th>Ticket</th>\n",
       "      <th>Fare</th>\n",
       "      <th>Embarked</th>\n",
       "      <th>FamilyName</th>\n",
       "    </tr>\n",
       "  </thead>\n",
       "  <tbody>\n",
       "    <tr>\n",
       "      <th>135</th>\n",
       "      <td>3</td>\n",
       "      <td>Carlsson, Mr. Carl Robert</td>\n",
       "      <td>male</td>\n",
       "      <td>24.0</td>\n",
       "      <td>0</td>\n",
       "      <td>0</td>\n",
       "      <td>350409</td>\n",
       "      <td>7.8542</td>\n",
       "      <td>S</td>\n",
       "      <td>Carlsson</td>\n",
       "    </tr>\n",
       "    <tr>\n",
       "      <th>301</th>\n",
       "      <td>2</td>\n",
       "      <td>Malachard, Mr. Noel</td>\n",
       "      <td>male</td>\n",
       "      <td>NaN</td>\n",
       "      <td>0</td>\n",
       "      <td>0</td>\n",
       "      <td>237735</td>\n",
       "      <td>15.0458</td>\n",
       "      <td>C</td>\n",
       "      <td>Malachard</td>\n",
       "    </tr>\n",
       "    <tr>\n",
       "      <th>273</th>\n",
       "      <td>3</td>\n",
       "      <td>Lennon, Miss. Mary</td>\n",
       "      <td>female</td>\n",
       "      <td>NaN</td>\n",
       "      <td>1</td>\n",
       "      <td>0</td>\n",
       "      <td>370371</td>\n",
       "      <td>15.5000</td>\n",
       "      <td>Q</td>\n",
       "      <td>Lennon</td>\n",
       "    </tr>\n",
       "  </tbody>\n",
       "</table>\n",
       "</div>"
      ],
      "text/plain": [
       "     Pclass  \\\n",
       "135       3   \n",
       "301       2   \n",
       "273       3   \n",
       "\n",
       "                          Name  \\\n",
       "135  Carlsson, Mr. Carl Robert   \n",
       "301        Malachard, Mr. Noel   \n",
       "273         Lennon, Miss. Mary   \n",
       "\n",
       "        Sex  \\\n",
       "135    male   \n",
       "301    male   \n",
       "273  female   \n",
       "\n",
       "      Age  \\\n",
       "135  24.0   \n",
       "301   NaN   \n",
       "273   NaN   \n",
       "\n",
       "     SibSp  \\\n",
       "135      0   \n",
       "301      0   \n",
       "273      1   \n",
       "\n",
       "     Parch  \\\n",
       "135      0   \n",
       "301      0   \n",
       "273      0   \n",
       "\n",
       "     Ticket  \\\n",
       "135  350409   \n",
       "301  237735   \n",
       "273  370371   \n",
       "\n",
       "        Fare  \\\n",
       "135   7.8542   \n",
       "301  15.0458   \n",
       "273  15.5000   \n",
       "\n",
       "    Embarked  \\\n",
       "135        S   \n",
       "301        C   \n",
       "273        Q   \n",
       "\n",
       "    FamilyName  \n",
       "135   Carlsson  \n",
       "301  Malachard  \n",
       "273     Lennon  "
      ]
     },
     "execution_count": 185,
     "metadata": {},
     "output_type": "execute_result"
    }
   ],
   "source": [
    "test_e.sample(3)"
   ]
  },
  {
   "cell_type": "code",
   "execution_count": 5,
   "metadata": {},
   "outputs": [
    {
     "name": "stdout",
     "output_type": "stream",
     "text": [
      "<class 'pandas.core.frame.DataFrame'>\n",
      "RangeIndex: 891 entries, 0 to 890\n",
      "Data columns (total 12 columns):\n",
      "PassengerId    891 non-null int64\n",
      "Survived       891 non-null int64\n",
      "Pclass         891 non-null int64\n",
      "Name           891 non-null object\n",
      "Sex            891 non-null object\n",
      "Age            714 non-null float64\n",
      "SibSp          891 non-null int64\n",
      "Parch          891 non-null int64\n",
      "Ticket         891 non-null object\n",
      "Fare           891 non-null float64\n",
      "Cabin          204 non-null object\n",
      "Embarked       889 non-null object\n",
      "dtypes: float64(2), int64(5), object(5)\n",
      "memory usage: 83.6+ KB\n"
     ]
    }
   ],
   "source": [
    "train_e.info()"
   ]
  },
  {
   "cell_type": "markdown",
   "metadata": {},
   "source": [
    "Passenger ID doesn't make any sense hence dropping it from further analysis."
   ]
  },
  {
   "cell_type": "code",
   "execution_count": 6,
   "metadata": {},
   "outputs": [],
   "source": [
    "# drop passenger id from both training and test dataset\n",
    "train_e.drop(columns='PassengerId', axis=1, inplace=True)\n",
    "test_e.drop(columns='PassengerId', axis=1, inplace=True)"
   ]
  },
  {
   "cell_type": "code",
   "execution_count": 7,
   "metadata": {},
   "outputs": [],
   "source": [
    "NUMERICAL_FEATURES =  ['Pclass', 'Age', 'SibSp', 'Parch', 'Fare']  \n",
    "CATEGORICAL_FEATURES = ['Name', 'Sex', 'Ticket', 'Cabin', 'Embarked']\n",
    "TARGET = ['Survived']"
   ]
  },
  {
   "cell_type": "markdown",
   "metadata": {},
   "source": [
    "There are five numerical and five categorical features and survived as the target variable. "
   ]
  },
  {
   "cell_type": "markdown",
   "metadata": {},
   "source": [
    "#### Surival and Non Survival View"
   ]
  },
  {
   "cell_type": "code",
   "execution_count": 166,
   "metadata": {},
   "outputs": [
    {
     "data": {
      "image/png": "[encoded data removed]",
      "text/plain": [
       "<Figure size 1152x432 with 2 Axes>"
      ]
     },
     "metadata": {},
     "output_type": "display_data"
    }
   ],
   "source": [
    "fig, ax = plt.subplots(1,2, figsize=( 16, 6))\n",
    "sns.countplot(data= train_e, x = 'Survived', ax=ax[0]).set_title('Survived By Numbers')\n",
    "labels = ['Survived', 'Not Survived']\n",
    "train_e.Survived.value_counts().plot.pie(explode =[0,0.05], autopct='%1.2f%%',shadow=False, startangle=0, \n",
    "                                         labels = labels,ax=ax[1],colors =['g','r'])\n",
    "plt.suptitle('Survival/ Non Survival Detais', fontsize=20, color='r')\n",
    "ax[1].set_ylabel('')\n",
    "plt.show()"
   ]
  },
  {
   "cell_type": "markdown",
   "metadata": {},
   "source": [
    "There are 61% onboard people survived, but 39% was not lucky to survived. Training dataset is not balance by classes but it is not too bad. There is no plan to upscale or downscale data.\n",
    "\n",
    "There is a story about that female and children was survival was better, let see in our analysis."
   ]
  },
  {
   "cell_type": "markdown",
   "metadata": {},
   "source": [
    "##### Genderwise Survival Ratio"
   ]
  },
  {
   "cell_type": "code",
   "execution_count": 171,
   "metadata": {},
   "outputs": [
    {
     "data": {
      "image/png": "[encoded data removed]",
      "text/plain": [
       "<Figure size 1152x432 with 3 Axes>"
      ]
     },
     "metadata": {},
     "output_type": "display_data"
    }
   ],
   "source": [
    "fig, ax = plt.subplots(1,3, figsize=( 16, 6))\n",
    "sns.countplot(data= train_e, x = \"Sex\", hue= 'Survived',ax=ax[0]).set_title('Genderwise Servival counts')\n",
    "labels = ['Not Survived','Survived']\n",
    "train_e[train_e.Sex == \"male\" ]['Survived'].value_counts().plot.pie(explode =[0,0.05], autopct='%1.2f%%',shadow=False, \n",
    "                                                                    startangle=0,ax=ax[1],labels=labels,colors=['r','g']).set_title('Male Survival')\n",
    "ax[1].set_ylabel('')\n",
    "labels = ['Survived','Not Survived',]\n",
    "train_e[train_e.Sex == \"female\" ]['Survived'].value_counts().plot.pie(explode =[0,0.05], autopct='%1.2f%%',shadow=False, \n",
    "                                                                      startangle=0,ax=ax[2],labels=labels,colors=['g','r']).set_title('Female Survival')\n",
    "plt.suptitle('Genderwise Survival/ Non Survival Detais', fontsize=20, color='r')\n",
    "#plt.subplot('Gender Wise Survival Chance', fontsize=20, color = 'r')\n",
    "ax[2].set_ylabel('')\n",
    "plt.show()"
   ]
  },
  {
   "cell_type": "markdown",
   "metadata": {},
   "source": [
    "### Survival by PClass"
   ]
  },
  {
   "cell_type": "code",
   "execution_count": 198,
   "metadata": {},
   "outputs": [
    {
     "data": {
      "image/png": "[encoded data removed]",
      "text/plain": [
       "<Figure size 1152x432 with 3 Axes>"
      ]
     },
     "metadata": {},
     "output_type": "display_data"
    }
   ],
   "source": [
    "fig, ax = plt.subplots(1,3, figsize=( 16, 6))\n",
    "train_e[train_e.Pclass == 1]['Survived'].value_counts().plot.pie(explode =[0,0.05], autopct='%1.2f%%',shadow=False, \n",
    "                                                                      startangle=0,ax=ax[0],colors=['g','r']).set_title('PClass -1 Survival')\n",
    "\n",
    "train_e[train_e.Pclass == 2]['Survived'].value_counts().plot.pie(explode =[0,0.05], autopct='%1.2f%%',shadow=False, \n",
    "                                                                      startangle=0,ax=ax[1],colors=['r','g']).set_title('PClass -2 Survival')\n",
    "train_e[train_e.Pclass == 3]['Survived'].value_counts().plot.pie(explode =[0,0.05], autopct='%1.2f%%',shadow=False, \n",
    "                                                                      startangle=0,ax=ax[2],colors=['r','g']).set_title('PClass -3 Survival')\n",
    "ax[0].set_ylabel('')\n",
    "ax[1].set_ylabel('')\n",
    "ax[2].set_ylabel('')\n",
    "plt.suptitle('Passanger Survival by PClass', fontsize = 20, color = 'r')\n",
    "plt.show()"
   ]
  },
  {
   "cell_type": "code",
   "execution_count": 180,
   "metadata": {},
   "outputs": [
    {
     "data": {
      "text/html": [
       "<div>\n",
       "<style scoped>\n",
       "    .dataframe tbody tr th:only-of-type {\n",
       "        vertical-align: middle;\n",
       "    }\n",
       "\n",
       "    .dataframe tbody tr th {\n",
       "        vertical-align: top;\n",
       "    }\n",
       "\n",
       "    .dataframe thead th {\n",
       "        text-align: right;\n",
       "    }\n",
       "</style>\n",
       "<table border=\"1\" class=\"dataframe\">\n",
       "  <thead>\n",
       "    <tr style=\"text-align: right;\">\n",
       "      <th></th>\n",
       "      <th>Pclass</th>\n",
       "      <th>Age</th>\n",
       "      <th>SibSp</th>\n",
       "      <th>Parch</th>\n",
       "      <th>Fare</th>\n",
       "      <th>Name</th>\n",
       "      <th>Sex</th>\n",
       "      <th>Ticket</th>\n",
       "      <th>Embarked</th>\n",
       "      <th>Survived</th>\n",
       "      <th>FamilyName</th>\n",
       "    </tr>\n",
       "  </thead>\n",
       "  <tbody>\n",
       "    <tr>\n",
       "      <th>9</th>\n",
       "      <td>2</td>\n",
       "      <td>14.0</td>\n",
       "      <td>1</td>\n",
       "      <td>0</td>\n",
       "      <td>30.0708</td>\n",
       "      <td>Nasser, Mrs. Nicholas (Adele Achem)</td>\n",
       "      <td>female</td>\n",
       "      <td>237736</td>\n",
       "      <td>C</td>\n",
       "      <td>1</td>\n",
       "      <td>Nasser</td>\n",
       "    </tr>\n",
       "    <tr>\n",
       "      <th>174</th>\n",
       "      <td>1</td>\n",
       "      <td>56.0</td>\n",
       "      <td>0</td>\n",
       "      <td>0</td>\n",
       "      <td>30.6958</td>\n",
       "      <td>Smith, Mr. James Clinch</td>\n",
       "      <td>male</td>\n",
       "      <td>17764</td>\n",
       "      <td>C</td>\n",
       "      <td>0</td>\n",
       "      <td>Smith</td>\n",
       "    </tr>\n",
       "    <tr>\n",
       "      <th>155</th>\n",
       "      <td>1</td>\n",
       "      <td>51.0</td>\n",
       "      <td>0</td>\n",
       "      <td>1</td>\n",
       "      <td>61.3792</td>\n",
       "      <td>Williams, Mr. Charles Duane</td>\n",
       "      <td>male</td>\n",
       "      <td>PC 17597</td>\n",
       "      <td>C</td>\n",
       "      <td>0</td>\n",
       "      <td>Williams</td>\n",
       "    </tr>\n",
       "  </tbody>\n",
       "</table>\n",
       "</div>"
      ],
      "text/plain": [
       "     Pclass  \\\n",
       "9         2   \n",
       "174       1   \n",
       "155       1   \n",
       "\n",
       "      Age  \\\n",
       "9    14.0   \n",
       "174  56.0   \n",
       "155  51.0   \n",
       "\n",
       "     SibSp  \\\n",
       "9        1   \n",
       "174      0   \n",
       "155      0   \n",
       "\n",
       "     Parch  \\\n",
       "9        0   \n",
       "174      0   \n",
       "155      1   \n",
       "\n",
       "        Fare  \\\n",
       "9    30.0708   \n",
       "174  30.6958   \n",
       "155  61.3792   \n",
       "\n",
       "                                    Name  \\\n",
       "9    Nasser, Mrs. Nicholas (Adele Achem)   \n",
       "174              Smith, Mr. James Clinch   \n",
       "155          Williams, Mr. Charles Duane   \n",
       "\n",
       "        Sex  \\\n",
       "9    female   \n",
       "174    male   \n",
       "155    male   \n",
       "\n",
       "       Ticket  \\\n",
       "9      237736   \n",
       "174     17764   \n",
       "155  PC 17597   \n",
       "\n",
       "    Embarked  \\\n",
       "9          C   \n",
       "174        C   \n",
       "155        C   \n",
       "\n",
       "     Survived  \\\n",
       "9           1   \n",
       "174         0   \n",
       "155         0   \n",
       "\n",
       "    FamilyName  \n",
       "9       Nasser  \n",
       "174      Smith  \n",
       "155   Williams  "
      ]
     },
     "execution_count": 180,
     "metadata": {},
     "output_type": "execute_result"
    }
   ],
   "source": [
    "pd.set_option('max_columns',12)\n",
    "pd.set_option('display.width',15)\n",
    "train_e.sample(3)"
   ]
  },
  {
   "cell_type": "markdown",
   "metadata": {},
   "source": [
    "Rearranging the Columns by moving the target variable to the end"
   ]
  },
  {
   "cell_type": "code",
   "execution_count": 183,
   "metadata": {},
   "outputs": [
    {
     "ename": "KeyError",
     "evalue": "\"['Cabin'] not in index\"",
     "output_type": "error",
     "traceback": [
      "\u001b[0;31m---------------------------------------------------------------------------\u001b[0m",
      "\u001b[0;31mKeyError\u001b[0m                                  Traceback (most recent call last)",
      "\u001b[0;32m<ipython-input-183-00c1b185e71f>\u001b[0m in \u001b[0;36m<module>\u001b[0;34m\u001b[0m\n\u001b[0;32m----> 1\u001b[0;31m \u001b[0mtrain_e\u001b[0m \u001b[0;34m=\u001b[0m \u001b[0mtrain_e\u001b[0m\u001b[0;34m[\u001b[0m\u001b[0mNUMERICAL_FEATURES\u001b[0m \u001b[0;34m+\u001b[0m \u001b[0mCATEGORICAL_FEATURES\u001b[0m \u001b[0;34m+\u001b[0m \u001b[0mTARGET\u001b[0m\u001b[0;34m]\u001b[0m\u001b[0;34m\u001b[0m\u001b[0;34m\u001b[0m\u001b[0m\n\u001b[0m",
      "\u001b[0;32m~/.local/lib/python3.7/site-packages/pandas/core/frame.py\u001b[0m in \u001b[0;36m__getitem__\u001b[0;34m(self, key)\u001b[0m\n\u001b[1;32m   2932\u001b[0m                 \u001b[0mkey\u001b[0m \u001b[0;34m=\u001b[0m \u001b[0mlist\u001b[0m\u001b[0;34m(\u001b[0m\u001b[0mkey\u001b[0m\u001b[0;34m)\u001b[0m\u001b[0;34m\u001b[0m\u001b[0;34m\u001b[0m\u001b[0m\n\u001b[1;32m   2933\u001b[0m             indexer = self.loc._convert_to_indexer(key, axis=1,\n\u001b[0;32m-> 2934\u001b[0;31m                                                    raise_missing=True)\n\u001b[0m\u001b[1;32m   2935\u001b[0m \u001b[0;34m\u001b[0m\u001b[0m\n\u001b[1;32m   2936\u001b[0m         \u001b[0;31m# take() does not accept boolean indexers\u001b[0m\u001b[0;34m\u001b[0m\u001b[0;34m\u001b[0m\u001b[0;34m\u001b[0m\u001b[0m\n",
      "\u001b[0;32m~/.local/lib/python3.7/site-packages/pandas/core/indexing.py\u001b[0m in \u001b[0;36m_convert_to_indexer\u001b[0;34m(self, obj, axis, is_setter, raise_missing)\u001b[0m\n\u001b[1;32m   1352\u001b[0m                 kwargs = {'raise_missing': True if is_setter else\n\u001b[1;32m   1353\u001b[0m                           raise_missing}\n\u001b[0;32m-> 1354\u001b[0;31m                 \u001b[0;32mreturn\u001b[0m \u001b[0mself\u001b[0m\u001b[0;34m.\u001b[0m\u001b[0m_get_listlike_indexer\u001b[0m\u001b[0;34m(\u001b[0m\u001b[0mobj\u001b[0m\u001b[0;34m,\u001b[0m \u001b[0maxis\u001b[0m\u001b[0;34m,\u001b[0m \u001b[0;34m**\u001b[0m\u001b[0mkwargs\u001b[0m\u001b[0;34m)\u001b[0m\u001b[0;34m[\u001b[0m\u001b[0;36m1\u001b[0m\u001b[0;34m]\u001b[0m\u001b[0;34m\u001b[0m\u001b[0;34m\u001b[0m\u001b[0m\n\u001b[0m\u001b[1;32m   1355\u001b[0m         \u001b[0;32melse\u001b[0m\u001b[0;34m:\u001b[0m\u001b[0;34m\u001b[0m\u001b[0;34m\u001b[0m\u001b[0m\n\u001b[1;32m   1356\u001b[0m             \u001b[0;32mtry\u001b[0m\u001b[0;34m:\u001b[0m\u001b[0;34m\u001b[0m\u001b[0;34m\u001b[0m\u001b[0m\n",
      "\u001b[0;32m~/.local/lib/python3.7/site-packages/pandas/core/indexing.py\u001b[0m in \u001b[0;36m_get_listlike_indexer\u001b[0;34m(self, key, axis, raise_missing)\u001b[0m\n\u001b[1;32m   1159\u001b[0m         self._validate_read_indexer(keyarr, indexer,\n\u001b[1;32m   1160\u001b[0m                                     \u001b[0mo\u001b[0m\u001b[0;34m.\u001b[0m\u001b[0m_get_axis_number\u001b[0m\u001b[0;34m(\u001b[0m\u001b[0maxis\u001b[0m\u001b[0;34m)\u001b[0m\u001b[0;34m,\u001b[0m\u001b[0;34m\u001b[0m\u001b[0;34m\u001b[0m\u001b[0m\n\u001b[0;32m-> 1161\u001b[0;31m                                     raise_missing=raise_missing)\n\u001b[0m\u001b[1;32m   1162\u001b[0m         \u001b[0;32mreturn\u001b[0m \u001b[0mkeyarr\u001b[0m\u001b[0;34m,\u001b[0m \u001b[0mindexer\u001b[0m\u001b[0;34m\u001b[0m\u001b[0;34m\u001b[0m\u001b[0m\n\u001b[1;32m   1163\u001b[0m \u001b[0;34m\u001b[0m\u001b[0m\n",
      "\u001b[0;32m~/.local/lib/python3.7/site-packages/pandas/core/indexing.py\u001b[0m in \u001b[0;36m_validate_read_indexer\u001b[0;34m(self, key, indexer, axis, raise_missing)\u001b[0m\n\u001b[1;32m   1250\u001b[0m             \u001b[0;32mif\u001b[0m \u001b[0;32mnot\u001b[0m\u001b[0;34m(\u001b[0m\u001b[0mself\u001b[0m\u001b[0;34m.\u001b[0m\u001b[0mname\u001b[0m \u001b[0;34m==\u001b[0m \u001b[0;34m'loc'\u001b[0m \u001b[0;32mand\u001b[0m \u001b[0;32mnot\u001b[0m \u001b[0mraise_missing\u001b[0m\u001b[0;34m)\u001b[0m\u001b[0;34m:\u001b[0m\u001b[0;34m\u001b[0m\u001b[0;34m\u001b[0m\u001b[0m\n\u001b[1;32m   1251\u001b[0m                 \u001b[0mnot_found\u001b[0m \u001b[0;34m=\u001b[0m \u001b[0mlist\u001b[0m\u001b[0;34m(\u001b[0m\u001b[0mset\u001b[0m\u001b[0;34m(\u001b[0m\u001b[0mkey\u001b[0m\u001b[0;34m)\u001b[0m \u001b[0;34m-\u001b[0m \u001b[0mset\u001b[0m\u001b[0;34m(\u001b[0m\u001b[0max\u001b[0m\u001b[0;34m)\u001b[0m\u001b[0;34m)\u001b[0m\u001b[0;34m\u001b[0m\u001b[0;34m\u001b[0m\u001b[0m\n\u001b[0;32m-> 1252\u001b[0;31m                 \u001b[0;32mraise\u001b[0m \u001b[0mKeyError\u001b[0m\u001b[0;34m(\u001b[0m\u001b[0;34m\"{} not in index\"\u001b[0m\u001b[0;34m.\u001b[0m\u001b[0mformat\u001b[0m\u001b[0;34m(\u001b[0m\u001b[0mnot_found\u001b[0m\u001b[0;34m)\u001b[0m\u001b[0;34m)\u001b[0m\u001b[0;34m\u001b[0m\u001b[0;34m\u001b[0m\u001b[0m\n\u001b[0m\u001b[1;32m   1253\u001b[0m \u001b[0;34m\u001b[0m\u001b[0m\n\u001b[1;32m   1254\u001b[0m             \u001b[0;31m# we skip the warning on Categorical/Interval\u001b[0m\u001b[0;34m\u001b[0m\u001b[0;34m\u001b[0m\u001b[0;34m\u001b[0m\u001b[0m\n",
      "\u001b[0;31mKeyError\u001b[0m: \"['Cabin'] not in index\""
     ]
    }
   ],
   "source": [
    "train_e = train_e[NUMERICAL_FEATURES + CATEGORICAL_FEATURES + TARGET]"
   ]
  },
  {
   "cell_type": "markdown",
   "metadata": {},
   "source": [
    "Taking a look at the data where the target variable has been removed from the test data."
   ]
  },
  {
   "cell_type": "code",
   "execution_count": 182,
   "metadata": {},
   "outputs": [
    {
     "ename": "KeyError",
     "evalue": "\"['Cabin'] not in index\"",
     "output_type": "error",
     "traceback": [
      "\u001b[0;31m---------------------------------------------------------------------------\u001b[0m",
      "\u001b[0;31mKeyError\u001b[0m                                  Traceback (most recent call last)",
      "\u001b[0;32m<ipython-input-182-50caefb29dc9>\u001b[0m in \u001b[0;36m<module>\u001b[0;34m\u001b[0m\n\u001b[0;32m----> 1\u001b[0;31m \u001b[0mtest_e\u001b[0m \u001b[0;34m=\u001b[0m \u001b[0mtest_e\u001b[0m\u001b[0;34m[\u001b[0m\u001b[0mNUMERICAL_FEATURES\u001b[0m \u001b[0;34m+\u001b[0m \u001b[0mCATEGORICAL_FEATURES\u001b[0m\u001b[0;34m]\u001b[0m\u001b[0;34m\u001b[0m\u001b[0;34m\u001b[0m\u001b[0m\n\u001b[0m",
      "\u001b[0;32m~/.local/lib/python3.7/site-packages/pandas/core/frame.py\u001b[0m in \u001b[0;36m__getitem__\u001b[0;34m(self, key)\u001b[0m\n\u001b[1;32m   2932\u001b[0m                 \u001b[0mkey\u001b[0m \u001b[0;34m=\u001b[0m \u001b[0mlist\u001b[0m\u001b[0;34m(\u001b[0m\u001b[0mkey\u001b[0m\u001b[0;34m)\u001b[0m\u001b[0;34m\u001b[0m\u001b[0;34m\u001b[0m\u001b[0m\n\u001b[1;32m   2933\u001b[0m             indexer = self.loc._convert_to_indexer(key, axis=1,\n\u001b[0;32m-> 2934\u001b[0;31m                                                    raise_missing=True)\n\u001b[0m\u001b[1;32m   2935\u001b[0m \u001b[0;34m\u001b[0m\u001b[0m\n\u001b[1;32m   2936\u001b[0m         \u001b[0;31m# take() does not accept boolean indexers\u001b[0m\u001b[0;34m\u001b[0m\u001b[0;34m\u001b[0m\u001b[0;34m\u001b[0m\u001b[0m\n",
      "\u001b[0;32m~/.local/lib/python3.7/site-packages/pandas/core/indexing.py\u001b[0m in \u001b[0;36m_convert_to_indexer\u001b[0;34m(self, obj, axis, is_setter, raise_missing)\u001b[0m\n\u001b[1;32m   1352\u001b[0m                 kwargs = {'raise_missing': True if is_setter else\n\u001b[1;32m   1353\u001b[0m                           raise_missing}\n\u001b[0;32m-> 1354\u001b[0;31m                 \u001b[0;32mreturn\u001b[0m \u001b[0mself\u001b[0m\u001b[0;34m.\u001b[0m\u001b[0m_get_listlike_indexer\u001b[0m\u001b[0;34m(\u001b[0m\u001b[0mobj\u001b[0m\u001b[0;34m,\u001b[0m \u001b[0maxis\u001b[0m\u001b[0;34m,\u001b[0m \u001b[0;34m**\u001b[0m\u001b[0mkwargs\u001b[0m\u001b[0;34m)\u001b[0m\u001b[0;34m[\u001b[0m\u001b[0;36m1\u001b[0m\u001b[0;34m]\u001b[0m\u001b[0;34m\u001b[0m\u001b[0;34m\u001b[0m\u001b[0m\n\u001b[0m\u001b[1;32m   1355\u001b[0m         \u001b[0;32melse\u001b[0m\u001b[0;34m:\u001b[0m\u001b[0;34m\u001b[0m\u001b[0;34m\u001b[0m\u001b[0m\n\u001b[1;32m   1356\u001b[0m             \u001b[0;32mtry\u001b[0m\u001b[0;34m:\u001b[0m\u001b[0;34m\u001b[0m\u001b[0;34m\u001b[0m\u001b[0m\n",
      "\u001b[0;32m~/.local/lib/python3.7/site-packages/pandas/core/indexing.py\u001b[0m in \u001b[0;36m_get_listlike_indexer\u001b[0;34m(self, key, axis, raise_missing)\u001b[0m\n\u001b[1;32m   1159\u001b[0m         self._validate_read_indexer(keyarr, indexer,\n\u001b[1;32m   1160\u001b[0m                                     \u001b[0mo\u001b[0m\u001b[0;34m.\u001b[0m\u001b[0m_get_axis_number\u001b[0m\u001b[0;34m(\u001b[0m\u001b[0maxis\u001b[0m\u001b[0;34m)\u001b[0m\u001b[0;34m,\u001b[0m\u001b[0;34m\u001b[0m\u001b[0;34m\u001b[0m\u001b[0m\n\u001b[0;32m-> 1161\u001b[0;31m                                     raise_missing=raise_missing)\n\u001b[0m\u001b[1;32m   1162\u001b[0m         \u001b[0;32mreturn\u001b[0m \u001b[0mkeyarr\u001b[0m\u001b[0;34m,\u001b[0m \u001b[0mindexer\u001b[0m\u001b[0;34m\u001b[0m\u001b[0;34m\u001b[0m\u001b[0m\n\u001b[1;32m   1163\u001b[0m \u001b[0;34m\u001b[0m\u001b[0m\n",
      "\u001b[0;32m~/.local/lib/python3.7/site-packages/pandas/core/indexing.py\u001b[0m in \u001b[0;36m_validate_read_indexer\u001b[0;34m(self, key, indexer, axis, raise_missing)\u001b[0m\n\u001b[1;32m   1250\u001b[0m             \u001b[0;32mif\u001b[0m \u001b[0;32mnot\u001b[0m\u001b[0;34m(\u001b[0m\u001b[0mself\u001b[0m\u001b[0;34m.\u001b[0m\u001b[0mname\u001b[0m \u001b[0;34m==\u001b[0m \u001b[0;34m'loc'\u001b[0m \u001b[0;32mand\u001b[0m \u001b[0;32mnot\u001b[0m \u001b[0mraise_missing\u001b[0m\u001b[0;34m)\u001b[0m\u001b[0;34m:\u001b[0m\u001b[0;34m\u001b[0m\u001b[0;34m\u001b[0m\u001b[0m\n\u001b[1;32m   1251\u001b[0m                 \u001b[0mnot_found\u001b[0m \u001b[0;34m=\u001b[0m \u001b[0mlist\u001b[0m\u001b[0;34m(\u001b[0m\u001b[0mset\u001b[0m\u001b[0;34m(\u001b[0m\u001b[0mkey\u001b[0m\u001b[0;34m)\u001b[0m \u001b[0;34m-\u001b[0m \u001b[0mset\u001b[0m\u001b[0;34m(\u001b[0m\u001b[0max\u001b[0m\u001b[0;34m)\u001b[0m\u001b[0;34m)\u001b[0m\u001b[0;34m\u001b[0m\u001b[0;34m\u001b[0m\u001b[0m\n\u001b[0;32m-> 1252\u001b[0;31m                 \u001b[0;32mraise\u001b[0m \u001b[0mKeyError\u001b[0m\u001b[0;34m(\u001b[0m\u001b[0;34m\"{} not in index\"\u001b[0m\u001b[0;34m.\u001b[0m\u001b[0mformat\u001b[0m\u001b[0;34m(\u001b[0m\u001b[0mnot_found\u001b[0m\u001b[0;34m)\u001b[0m\u001b[0;34m)\u001b[0m\u001b[0;34m\u001b[0m\u001b[0;34m\u001b[0m\u001b[0m\n\u001b[0m\u001b[1;32m   1253\u001b[0m \u001b[0;34m\u001b[0m\u001b[0m\n\u001b[1;32m   1254\u001b[0m             \u001b[0;31m# we skip the warning on Categorical/Interval\u001b[0m\u001b[0;34m\u001b[0m\u001b[0;34m\u001b[0m\u001b[0;34m\u001b[0m\u001b[0m\n",
      "\u001b[0;31mKeyError\u001b[0m: \"['Cabin'] not in index\""
     ]
    }
   ],
   "source": [
    "test_e = test_e[NUMERICAL_FEATURES + CATEGORICAL_FEATURES]"
   ]
  },
  {
   "cell_type": "markdown",
   "metadata": {},
   "source": [
    "Quick look on statistics of the numerical data of training and test sets"
   ]
  },
  {
   "cell_type": "code",
   "execution_count": 16,
   "metadata": {},
   "outputs": [
    {
     "data": {
      "text/html": [
       "<div>\n",
       "<style scoped>\n",
       "    .dataframe tbody tr th:only-of-type {\n",
       "        vertical-align: middle;\n",
       "    }\n",
       "\n",
       "    .dataframe tbody tr th {\n",
       "        vertical-align: top;\n",
       "    }\n",
       "\n",
       "    .dataframe thead th {\n",
       "        text-align: right;\n",
       "    }\n",
       "</style>\n",
       "<table border=\"1\" class=\"dataframe\">\n",
       "  <thead>\n",
       "    <tr style=\"text-align: right;\">\n",
       "      <th></th>\n",
       "      <th>Pclass</th>\n",
       "      <th>Age</th>\n",
       "      <th>SibSp</th>\n",
       "      <th>Parch</th>\n",
       "      <th>Fare</th>\n",
       "    </tr>\n",
       "  </thead>\n",
       "  <tbody>\n",
       "    <tr>\n",
       "      <th>count</th>\n",
       "      <td>891.000000</td>\n",
       "      <td>714.000000</td>\n",
       "      <td>891.000000</td>\n",
       "      <td>891.000000</td>\n",
       "      <td>891.000000</td>\n",
       "    </tr>\n",
       "    <tr>\n",
       "      <th>mean</th>\n",
       "      <td>2.308642</td>\n",
       "      <td>29.699118</td>\n",
       "      <td>0.523008</td>\n",
       "      <td>0.381594</td>\n",
       "      <td>32.204208</td>\n",
       "    </tr>\n",
       "    <tr>\n",
       "      <th>std</th>\n",
       "      <td>0.836071</td>\n",
       "      <td>14.526497</td>\n",
       "      <td>1.102743</td>\n",
       "      <td>0.806057</td>\n",
       "      <td>49.693429</td>\n",
       "    </tr>\n",
       "    <tr>\n",
       "      <th>min</th>\n",
       "      <td>1.000000</td>\n",
       "      <td>0.420000</td>\n",
       "      <td>0.000000</td>\n",
       "      <td>0.000000</td>\n",
       "      <td>0.000000</td>\n",
       "    </tr>\n",
       "    <tr>\n",
       "      <th>25%</th>\n",
       "      <td>2.000000</td>\n",
       "      <td>20.125000</td>\n",
       "      <td>0.000000</td>\n",
       "      <td>0.000000</td>\n",
       "      <td>7.910400</td>\n",
       "    </tr>\n",
       "    <tr>\n",
       "      <th>50%</th>\n",
       "      <td>3.000000</td>\n",
       "      <td>28.000000</td>\n",
       "      <td>0.000000</td>\n",
       "      <td>0.000000</td>\n",
       "      <td>14.454200</td>\n",
       "    </tr>\n",
       "    <tr>\n",
       "      <th>75%</th>\n",
       "      <td>3.000000</td>\n",
       "      <td>38.000000</td>\n",
       "      <td>1.000000</td>\n",
       "      <td>0.000000</td>\n",
       "      <td>31.000000</td>\n",
       "    </tr>\n",
       "    <tr>\n",
       "      <th>max</th>\n",
       "      <td>3.000000</td>\n",
       "      <td>80.000000</td>\n",
       "      <td>8.000000</td>\n",
       "      <td>6.000000</td>\n",
       "      <td>512.329200</td>\n",
       "    </tr>\n",
       "  </tbody>\n",
       "</table>\n",
       "</div>"
      ],
      "text/plain": [
       "           Pclass         Age       SibSp       Parch        Fare\n",
       "count  891.000000  714.000000  891.000000  891.000000  891.000000\n",
       "mean     2.308642   29.699118    0.523008    0.381594   32.204208\n",
       "std      0.836071   14.526497    1.102743    0.806057   49.693429\n",
       "min      1.000000    0.420000    0.000000    0.000000    0.000000\n",
       "25%      2.000000   20.125000    0.000000    0.000000    7.910400\n",
       "50%      3.000000   28.000000    0.000000    0.000000   14.454200\n",
       "75%      3.000000   38.000000    1.000000    0.000000   31.000000\n",
       "max      3.000000   80.000000    8.000000    6.000000  512.329200"
      ]
     },
     "execution_count": 16,
     "metadata": {},
     "output_type": "execute_result"
    }
   ],
   "source": [
    "pd.DataFrame(train_e[NUMERICAL_FEATURES].describe())"
   ]
  },
  {
   "cell_type": "code",
   "execution_count": 17,
   "metadata": {},
   "outputs": [
    {
     "data": {
      "text/html": [
       "<div>\n",
       "<style scoped>\n",
       "    .dataframe tbody tr th:only-of-type {\n",
       "        vertical-align: middle;\n",
       "    }\n",
       "\n",
       "    .dataframe tbody tr th {\n",
       "        vertical-align: top;\n",
       "    }\n",
       "\n",
       "    .dataframe thead th {\n",
       "        text-align: right;\n",
       "    }\n",
       "</style>\n",
       "<table border=\"1\" class=\"dataframe\">\n",
       "  <thead>\n",
       "    <tr style=\"text-align: right;\">\n",
       "      <th></th>\n",
       "      <th>Pclass</th>\n",
       "      <th>Age</th>\n",
       "      <th>SibSp</th>\n",
       "      <th>Parch</th>\n",
       "      <th>Fare</th>\n",
       "    </tr>\n",
       "  </thead>\n",
       "  <tbody>\n",
       "    <tr>\n",
       "      <th>count</th>\n",
       "      <td>418.000000</td>\n",
       "      <td>332.000000</td>\n",
       "      <td>418.000000</td>\n",
       "      <td>418.000000</td>\n",
       "      <td>417.000000</td>\n",
       "    </tr>\n",
       "    <tr>\n",
       "      <th>mean</th>\n",
       "      <td>2.265550</td>\n",
       "      <td>30.272590</td>\n",
       "      <td>0.447368</td>\n",
       "      <td>0.392344</td>\n",
       "      <td>35.627188</td>\n",
       "    </tr>\n",
       "    <tr>\n",
       "      <th>std</th>\n",
       "      <td>0.841838</td>\n",
       "      <td>14.181209</td>\n",
       "      <td>0.896760</td>\n",
       "      <td>0.981429</td>\n",
       "      <td>55.907576</td>\n",
       "    </tr>\n",
       "    <tr>\n",
       "      <th>min</th>\n",
       "      <td>1.000000</td>\n",
       "      <td>0.170000</td>\n",
       "      <td>0.000000</td>\n",
       "      <td>0.000000</td>\n",
       "      <td>0.000000</td>\n",
       "    </tr>\n",
       "    <tr>\n",
       "      <th>25%</th>\n",
       "      <td>1.000000</td>\n",
       "      <td>21.000000</td>\n",
       "      <td>0.000000</td>\n",
       "      <td>0.000000</td>\n",
       "      <td>7.895800</td>\n",
       "    </tr>\n",
       "    <tr>\n",
       "      <th>50%</th>\n",
       "      <td>3.000000</td>\n",
       "      <td>27.000000</td>\n",
       "      <td>0.000000</td>\n",
       "      <td>0.000000</td>\n",
       "      <td>14.454200</td>\n",
       "    </tr>\n",
       "    <tr>\n",
       "      <th>75%</th>\n",
       "      <td>3.000000</td>\n",
       "      <td>39.000000</td>\n",
       "      <td>1.000000</td>\n",
       "      <td>0.000000</td>\n",
       "      <td>31.500000</td>\n",
       "    </tr>\n",
       "    <tr>\n",
       "      <th>max</th>\n",
       "      <td>3.000000</td>\n",
       "      <td>76.000000</td>\n",
       "      <td>8.000000</td>\n",
       "      <td>9.000000</td>\n",
       "      <td>512.329200</td>\n",
       "    </tr>\n",
       "  </tbody>\n",
       "</table>\n",
       "</div>"
      ],
      "text/plain": [
       "           Pclass         Age       SibSp       Parch        Fare\n",
       "count  418.000000  332.000000  418.000000  418.000000  417.000000\n",
       "mean     2.265550   30.272590    0.447368    0.392344   35.627188\n",
       "std      0.841838   14.181209    0.896760    0.981429   55.907576\n",
       "min      1.000000    0.170000    0.000000    0.000000    0.000000\n",
       "25%      1.000000   21.000000    0.000000    0.000000    7.895800\n",
       "50%      3.000000   27.000000    0.000000    0.000000   14.454200\n",
       "75%      3.000000   39.000000    1.000000    0.000000   31.500000\n",
       "max      3.000000   76.000000    8.000000    9.000000  512.329200"
      ]
     },
     "execution_count": 17,
     "metadata": {},
     "output_type": "execute_result"
    }
   ],
   "source": [
    "pd.DataFrame(test_e[NUMERICAL_FEATURES].describe())"
   ]
  },
  {
   "cell_type": "markdown",
   "metadata": {},
   "source": [
    "Quick dive into the categorical features"
   ]
  },
  {
   "cell_type": "code",
   "execution_count": 18,
   "metadata": {},
   "outputs": [
    {
     "data": {
      "text/html": [
       "<div>\n",
       "<style scoped>\n",
       "    .dataframe tbody tr th:only-of-type {\n",
       "        vertical-align: middle;\n",
       "    }\n",
       "\n",
       "    .dataframe tbody tr th {\n",
       "        vertical-align: top;\n",
       "    }\n",
       "\n",
       "    .dataframe thead th {\n",
       "        text-align: right;\n",
       "    }\n",
       "</style>\n",
       "<table border=\"1\" class=\"dataframe\">\n",
       "  <thead>\n",
       "    <tr style=\"text-align: right;\">\n",
       "      <th></th>\n",
       "      <th>Name</th>\n",
       "      <th>Sex</th>\n",
       "      <th>Ticket</th>\n",
       "      <th>Cabin</th>\n",
       "      <th>Embarked</th>\n",
       "    </tr>\n",
       "  </thead>\n",
       "  <tbody>\n",
       "    <tr>\n",
       "      <th>count</th>\n",
       "      <td>891</td>\n",
       "      <td>891</td>\n",
       "      <td>891</td>\n",
       "      <td>204</td>\n",
       "      <td>889</td>\n",
       "    </tr>\n",
       "    <tr>\n",
       "      <th>unique</th>\n",
       "      <td>891</td>\n",
       "      <td>2</td>\n",
       "      <td>681</td>\n",
       "      <td>147</td>\n",
       "      <td>3</td>\n",
       "    </tr>\n",
       "    <tr>\n",
       "      <th>top</th>\n",
       "      <td>Butler, Mr. Reginald Fenton</td>\n",
       "      <td>male</td>\n",
       "      <td>CA. 2343</td>\n",
       "      <td>G6</td>\n",
       "      <td>S</td>\n",
       "    </tr>\n",
       "    <tr>\n",
       "      <th>freq</th>\n",
       "      <td>1</td>\n",
       "      <td>577</td>\n",
       "      <td>7</td>\n",
       "      <td>4</td>\n",
       "      <td>644</td>\n",
       "    </tr>\n",
       "  </tbody>\n",
       "</table>\n",
       "</div>"
      ],
      "text/plain": [
       "                               Name   Sex    Ticket Cabin Embarked\n",
       "count                           891   891       891   204      889\n",
       "unique                          891     2       681   147        3\n",
       "top     Butler, Mr. Reginald Fenton  male  CA. 2343    G6        S\n",
       "freq                              1   577         7     4      644"
      ]
     },
     "execution_count": 18,
     "metadata": {},
     "output_type": "execute_result"
    }
   ],
   "source": [
    "train_e[CATEGORICAL_FEATURES].describe()"
   ]
  },
  {
   "cell_type": "markdown",
   "metadata": {},
   "source": [
    "#### Findings:\n",
    "\n",
    "* There are 891 records in the training data set.\n",
    "* Age has only 714 values out of 891. \n",
    "* The range of age was from toddler to 80 year old. \n",
    "* Majority of the sample was in Pclass 3.\n",
    "* There were a few people beyond the age of 38. \n",
    "* Majority of the family is a small family only a few family had more than one sibling. \n",
    "* Number of parents/children on were mostly 0 only a few family had 6 parents/children. \n",
    "* The fare varied form the range of 0 to $513. Most of the people paid less than 31 dollars.\n",
    "* The names are unique all across, which means no two people had the same name. \n",
    "* There was no ambiguity in entering the data for Sex because there are only two types of values. \n",
    "* Cabin has similar information across many of their enteries this is due to the fact that a ship can have many cabins. \n",
    "* Embarked has 3 values which means that there are three stops from where people embarked. The value 'S' tops the world. \n",
    "* Out of 13 features in the training dataset. We have 6 integer values, 2 float data types, and 5 string data types"
   ]
  },
  {
   "cell_type": "markdown",
   "metadata": {},
   "source": [
    "Checking the shape of the dataset"
   ]
  },
  {
   "cell_type": "code",
   "execution_count": 20,
   "metadata": {},
   "outputs": [
    {
     "name": "stdout",
     "output_type": "stream",
     "text": [
      "There are 891 observation and 11 columns in training dataset\n",
      "There are 418 observation and 10 columns in test dataset\n"
     ]
    }
   ],
   "source": [
    "print (\"There are {} observation and {} columns in training dataset\".format(train_e.shape[0], train_e.shape[1]))\n",
    "print (\"There are {} observation and {} columns in test dataset\".format(test_e.shape[0], test_e.shape[1]))"
   ]
  },
  {
   "cell_type": "markdown",
   "metadata": {},
   "source": [
    "#### Finding the missing columns:"
   ]
  },
  {
   "cell_type": "code",
   "execution_count": 35,
   "metadata": {},
   "outputs": [
    {
     "data": {
      "text/html": [
       "<div>\n",
       "<style scoped>\n",
       "    .dataframe tbody tr th:only-of-type {\n",
       "        vertical-align: middle;\n",
       "    }\n",
       "\n",
       "    .dataframe tbody tr th {\n",
       "        vertical-align: top;\n",
       "    }\n",
       "\n",
       "    .dataframe thead th {\n",
       "        text-align: right;\n",
       "    }\n",
       "</style>\n",
       "<table border=\"1\" class=\"dataframe\">\n",
       "  <thead>\n",
       "    <tr style=\"text-align: right;\">\n",
       "      <th></th>\n",
       "      <th>Pclass</th>\n",
       "      <th>Age</th>\n",
       "      <th>SibSp</th>\n",
       "      <th>Parch</th>\n",
       "      <th>Fare</th>\n",
       "      <th>Name</th>\n",
       "      <th>Sex</th>\n",
       "      <th>Ticket</th>\n",
       "      <th>Cabin</th>\n",
       "      <th>Embarked</th>\n",
       "      <th>Survived</th>\n",
       "    </tr>\n",
       "  </thead>\n",
       "  <tbody>\n",
       "    <tr>\n",
       "      <th>No. of missing values</th>\n",
       "      <td>0.0</td>\n",
       "      <td>177.0</td>\n",
       "      <td>0.0</td>\n",
       "      <td>0.0</td>\n",
       "      <td>0.0</td>\n",
       "      <td>0.0</td>\n",
       "      <td>0.0</td>\n",
       "      <td>0.0</td>\n",
       "      <td>687.0</td>\n",
       "      <td>2.0</td>\n",
       "      <td>0.0</td>\n",
       "    </tr>\n",
       "    <tr>\n",
       "      <th>Missing Percent</th>\n",
       "      <td>0.0</td>\n",
       "      <td>19.9</td>\n",
       "      <td>0.0</td>\n",
       "      <td>0.0</td>\n",
       "      <td>0.0</td>\n",
       "      <td>0.0</td>\n",
       "      <td>0.0</td>\n",
       "      <td>0.0</td>\n",
       "      <td>77.1</td>\n",
       "      <td>0.2</td>\n",
       "      <td>0.0</td>\n",
       "    </tr>\n",
       "  </tbody>\n",
       "</table>\n",
       "</div>"
      ],
      "text/plain": [
       "                       Pclass    Age  SibSp  Parch  Fare  Name  Sex  Ticket  \\\n",
       "No. of missing values     0.0  177.0    0.0    0.0   0.0   0.0  0.0     0.0   \n",
       "Missing Percent           0.0   19.9    0.0    0.0   0.0   0.0  0.0     0.0   \n",
       "\n",
       "                       Cabin  Embarked  Survived  \n",
       "No. of missing values  687.0       2.0       0.0  \n",
       "Missing Percent         77.1       0.2       0.0  "
      ]
     },
     "execution_count": 35,
     "metadata": {},
     "output_type": "execute_result"
    }
   ],
   "source": [
    "train_missing = pd.DataFrame(train_e.isnull().sum(), columns= ['No. of missing values']).T\n",
    "train_missing_p = round(train_missing/len(train_e),3) *100\n",
    "train_missing_p.index = ['Missing Percent']\n",
    "pd.concat([train_missing,train_missing_p],axis = 0)"
   ]
  },
  {
   "cell_type": "markdown",
   "metadata": {},
   "source": [
    "Age has 177 missing records wehreas Cabin has 687 missing records which is significant portion of the dataset. Embarked has only 2 missing values which is not that much. The second row displays the same information in the form of percentage. Cabin has 77% missing records therefore, we can try our best to fill in the missing info. "
   ]
  },
  {
   "cell_type": "code",
   "execution_count": 37,
   "metadata": {},
   "outputs": [
    {
     "data": {
      "text/html": [
       "<div>\n",
       "<style scoped>\n",
       "    .dataframe tbody tr th:only-of-type {\n",
       "        vertical-align: middle;\n",
       "    }\n",
       "\n",
       "    .dataframe tbody tr th {\n",
       "        vertical-align: top;\n",
       "    }\n",
       "\n",
       "    .dataframe thead th {\n",
       "        text-align: right;\n",
       "    }\n",
       "</style>\n",
       "<table border=\"1\" class=\"dataframe\">\n",
       "  <thead>\n",
       "    <tr style=\"text-align: right;\">\n",
       "      <th></th>\n",
       "      <th>Pclass</th>\n",
       "      <th>Name</th>\n",
       "      <th>Sex</th>\n",
       "      <th>Age</th>\n",
       "      <th>SibSp</th>\n",
       "      <th>Parch</th>\n",
       "      <th>Ticket</th>\n",
       "      <th>Fare</th>\n",
       "      <th>Cabin</th>\n",
       "      <th>Embarked</th>\n",
       "    </tr>\n",
       "  </thead>\n",
       "  <tbody>\n",
       "    <tr>\n",
       "      <th>No. of missing values</th>\n",
       "      <td>0.0</td>\n",
       "      <td>0.0</td>\n",
       "      <td>0.0</td>\n",
       "      <td>86.0</td>\n",
       "      <td>0.0</td>\n",
       "      <td>0.0</td>\n",
       "      <td>0.0</td>\n",
       "      <td>1.0</td>\n",
       "      <td>327.0</td>\n",
       "      <td>0.0</td>\n",
       "    </tr>\n",
       "    <tr>\n",
       "      <th>Missing Percent</th>\n",
       "      <td>0.0</td>\n",
       "      <td>0.0</td>\n",
       "      <td>0.0</td>\n",
       "      <td>9.7</td>\n",
       "      <td>0.0</td>\n",
       "      <td>0.0</td>\n",
       "      <td>0.0</td>\n",
       "      <td>0.1</td>\n",
       "      <td>36.7</td>\n",
       "      <td>0.0</td>\n",
       "    </tr>\n",
       "  </tbody>\n",
       "</table>\n",
       "</div>"
      ],
      "text/plain": [
       "                       Pclass  Name  Sex   Age  SibSp  Parch  Ticket  Fare  \\\n",
       "No. of missing values     0.0   0.0  0.0  86.0    0.0    0.0     0.0   1.0   \n",
       "Missing Percent           0.0   0.0  0.0   9.7    0.0    0.0     0.0   0.1   \n",
       "\n",
       "                       Cabin  Embarked  \n",
       "No. of missing values  327.0       0.0  \n",
       "Missing Percent         36.7       0.0  "
      ]
     },
     "execution_count": 37,
     "metadata": {},
     "output_type": "execute_result"
    }
   ],
   "source": [
    "test_missing = pd.DataFrame(test_e.isnull().sum(), columns= ['No. of missing values']).T\n",
    "test_missing_p = round(test_missing/len(train_e),3) *100\n",
    "test_missing_p.index = ['Missing Percent']\n",
    "pd.concat([test_missing,test_missing_p],axis = 0)"
   ]
  },
  {
   "cell_type": "markdown",
   "metadata": {},
   "source": [
    "Age has 86 missing records wehreas Cabin has 327 missing records, which is significant portion of the dataset. Just like the training data, we witness similar kind of pattern in the test data but here the percentage of missing values are almost half of the training dataset. Age has only 10% missing records while Cabin still tops the list with almost 37% missing values. In addition to Cabin and Age, test data also has one missing value of Fare; therefore, we need a way to fill in this missing information. "
   ]
  },
  {
   "cell_type": "markdown",
   "metadata": {},
   "source": [
    "#### Family Name \n",
    "Created a new feature Family value to distinguish people who belong to the same family. "
   ]
  },
  {
   "cell_type": "code",
   "execution_count": 38,
   "metadata": {},
   "outputs": [],
   "source": [
    "train_e['FamilyName'] = train_e['Name'].str.split(\",\",expand=True)[0]\n",
    "test_e['FamilyName'] = test_e['Name'].str.split(\",\",expand=True)[0]"
   ]
  },
  {
   "cell_type": "markdown",
   "metadata": {},
   "source": [
    "A new attribute called 'FamilyName' has been created consisting of the last name. \n"
   ]
  },
  {
   "cell_type": "code",
   "execution_count": 43,
   "metadata": {},
   "outputs": [
    {
     "data": {
      "text/html": [
       "<div>\n",
       "<style scoped>\n",
       "    .dataframe tbody tr th:only-of-type {\n",
       "        vertical-align: middle;\n",
       "    }\n",
       "\n",
       "    .dataframe tbody tr th {\n",
       "        vertical-align: top;\n",
       "    }\n",
       "\n",
       "    .dataframe thead th {\n",
       "        text-align: right;\n",
       "    }\n",
       "</style>\n",
       "<table border=\"1\" class=\"dataframe\">\n",
       "  <thead>\n",
       "    <tr style=\"text-align: right;\">\n",
       "      <th></th>\n",
       "      <th>Pclass</th>\n",
       "      <th>Age</th>\n",
       "      <th>SibSp</th>\n",
       "      <th>Parch</th>\n",
       "      <th>Fare</th>\n",
       "      <th>Name</th>\n",
       "      <th>Sex</th>\n",
       "      <th>Ticket</th>\n",
       "      <th>Cabin</th>\n",
       "      <th>Embarked</th>\n",
       "      <th>Survived</th>\n",
       "      <th>FamilyName</th>\n",
       "    </tr>\n",
       "  </thead>\n",
       "  <tbody>\n",
       "    <tr>\n",
       "      <th>0</th>\n",
       "      <td>3</td>\n",
       "      <td>22.0</td>\n",
       "      <td>1</td>\n",
       "      <td>0</td>\n",
       "      <td>7.2500</td>\n",
       "      <td>Braund, Mr. Owen Harris</td>\n",
       "      <td>male</td>\n",
       "      <td>A/5 21171</td>\n",
       "      <td>NaN</td>\n",
       "      <td>S</td>\n",
       "      <td>0</td>\n",
       "      <td>Braund</td>\n",
       "    </tr>\n",
       "    <tr>\n",
       "      <th>1</th>\n",
       "      <td>1</td>\n",
       "      <td>38.0</td>\n",
       "      <td>1</td>\n",
       "      <td>0</td>\n",
       "      <td>71.2833</td>\n",
       "      <td>Cumings, Mrs. John Bradley (Florence Briggs Th...</td>\n",
       "      <td>female</td>\n",
       "      <td>PC 17599</td>\n",
       "      <td>C85</td>\n",
       "      <td>C</td>\n",
       "      <td>1</td>\n",
       "      <td>Cumings</td>\n",
       "    </tr>\n",
       "  </tbody>\n",
       "</table>\n",
       "</div>"
      ],
      "text/plain": [
       "   Pclass   Age  SibSp  Parch     Fare  \\\n",
       "0       3  22.0      1      0   7.2500   \n",
       "1       1  38.0      1      0  71.2833   \n",
       "\n",
       "                                                Name     Sex     Ticket Cabin  \\\n",
       "0                            Braund, Mr. Owen Harris    male  A/5 21171   NaN   \n",
       "1  Cumings, Mrs. John Bradley (Florence Briggs Th...  female   PC 17599   C85   \n",
       "\n",
       "  Embarked  Survived FamilyName  \n",
       "0        S         0     Braund  \n",
       "1        C         1    Cumings  "
      ]
     },
     "execution_count": 43,
     "metadata": {},
     "output_type": "execute_result"
    }
   ],
   "source": [
    "train_e.head(2)"
   ]
  },
  {
   "cell_type": "code",
   "execution_count": 39,
   "metadata": {},
   "outputs": [
    {
     "data": {
      "text/plain": [
       "133"
      ]
     },
     "execution_count": 39,
     "metadata": {},
     "output_type": "execute_result"
    }
   ],
   "source": [
    "(train_e.FamilyName.value_counts() > 1).sum()"
   ]
  },
  {
   "cell_type": "markdown",
   "metadata": {},
   "source": [
    "There are 133 families with more than one member on board."
   ]
  },
  {
   "cell_type": "code",
   "execution_count": 44,
   "metadata": {},
   "outputs": [],
   "source": [
    "cabin_yes = list(train_e[train_e['Cabin'].isnull() == False]['FamilyName'])\n",
    "cabin_no = list(train_e[train_e['Cabin'].isnull() == True]['FamilyName'])"
   ]
  },
  {
   "cell_type": "code",
   "execution_count": 45,
   "metadata": {},
   "outputs": [
    {
     "data": {
      "text/plain": [
       "509"
      ]
     },
     "execution_count": 45,
     "metadata": {},
     "output_type": "execute_result"
    }
   ],
   "source": [
    "len(list(set(cabin_no) - set(cabin_yes))) "
   ]
  },
  {
   "cell_type": "markdown",
   "metadata": {},
   "source": [
    "There are 509 family name who does not have any clue about their cabin allocations. Cabin does not look significant feature This analysis is based on the assumption that people from the same family would share the same cabin information. The ticket number would be differnt but cabin information would definitely be same. Even if we try to fill in the missing data, we will still be missing 509 cabin information."
   ]
  },
  {
   "cell_type": "markdown",
   "metadata": {},
   "source": [
    "Therefore, we plan to carry forward our analysis by dropping the cabin information. "
   ]
  },
  {
   "cell_type": "code",
   "execution_count": 46,
   "metadata": {},
   "outputs": [],
   "source": [
    "train_e.drop('Cabin', axis=1, inplace=True)\n",
    "test_e.drop('Cabin', axis=1, inplace=True)"
   ]
  },
  {
   "cell_type": "markdown",
   "metadata": {},
   "source": [
    "#### Survival by Age"
   ]
  },
  {
   "cell_type": "code",
   "execution_count": 97,
   "metadata": {},
   "outputs": [
    {
     "data": {
      "image/png": "[encoded data removed]",
      "text/plain": [
       "<Figure size 1440x576 with 2 Axes>"
      ]
     },
     "metadata": {},
     "output_type": "display_data"
    }
   ],
   "source": [
    "# plot = sns.FacetGrid(train_e, col = 'Survived')\n",
    "# plot.map(plt.hist, 'Age', bins = 10)\n",
    "# plt.show()\n",
    "#train_e.Age\n",
    "fig, ax = plt.subplots(1,2, figsize=(20,8))\n",
    "sns.distplot(train_e[~(np.isnan(train_e.Age) )& (train.Survived == 0) ]['Age'], kde=False, hist=True, ax = ax[0]).set_title('Not Survived');\n",
    "sns.distplot(train_e[~(np.isnan(train_e.Age) )& (train.Survived == 1) ]['Age'], kde = False, hist=True, ax = ax[1]).set_title('Survived');\n",
    "plt.suptitle('Age wise survival detail',fontsize=20, color ='b')\n",
    "plt.show()"
   ]
  },
  {
   "cell_type": "markdown",
   "metadata": {},
   "source": [
    "Looking at the age data we can say that although most of the passengers are in their 15-40 age range but those are the ones that didn't survive. Mostly the people who survived are in the age range of 0-10 and elderly people. "
   ]
  },
  {
   "cell_type": "code",
   "execution_count": 48,
   "metadata": {},
   "outputs": [
    {
     "data": {
      "image/png": "[encoded data removed]",
      "text/plain": [
       "<Figure size 432x648 with 6 Axes>"
      ]
     },
     "metadata": {
      "needs_background": "light"
     },
     "output_type": "display_data"
    }
   ],
   "source": [
    "grid = sns.FacetGrid(train_e, row='Pclass', col='Survived')\n",
    "grid.map(plt.hist, 'Age', bins =10)\n",
    "plt.show()"
   ]
  },
  {
   "cell_type": "markdown",
   "metadata": {},
   "source": [
    "From the data visualization above, we can see that althougt Pclass 1 has the least amount of people those are the ones that survived the most. Pclass 3 has the most number of passengers but the survival rate is the lowest in proportion to the total number of passengers. "
   ]
  },
  {
   "cell_type": "code",
   "execution_count": 49,
   "metadata": {},
   "outputs": [
    {
     "data": {
      "image/png": "[encoded data removed]",
      "text/plain": [
       "<Figure size 1008x432 with 3 Axes>"
      ]
     },
     "metadata": {},
     "output_type": "display_data"
    }
   ],
   "source": [
    "#sns.set_style(\"darkgrid\")\n",
    "f, (ax1, ax2, ax3) = plt.subplots(1, 3, sharey=True, figsize=(14,6))\n",
    "sns.countplot(data = train_e[train_e.Survived > 0], x = \"Pclass\",ax=ax1)\n",
    "ax1.set_title('Survived by Classes')\n",
    "sns.countplot(data = train_e[train_e.Survived == 0], x = \"Pclass\",ax=ax2)\n",
    "ax2.set_title('Not Survived By Classes')\n",
    "sns.countplot(data = train_e, x = \"Pclass\",ax=ax3)\n",
    "ax3.set_title('Passange By Classes')\n",
    "plt.show()"
   ]
  },
  {
   "cell_type": "code",
   "execution_count": 50,
   "metadata": {},
   "outputs": [
    {
     "data": {
      "image/png": "[encoded data removed]",
      "text/plain": [
       "<Figure size 1008x432 with 3 Axes>"
      ]
     },
     "metadata": {},
     "output_type": "display_data"
    }
   ],
   "source": [
    "sns.set_style(\"darkgrid\")\n",
    "f, (ax1, ax2, ax3) = plt.subplots(1, 3, sharey=True, figsize=(14,6))\n",
    "sns.countplot(data = train_e[train_e.Survived > 0], x = \"Embarked\",ax=ax1)\n",
    "ax1.set_title('Survived by Embarked')\n",
    "sns.countplot(data = train_e[train_e.Survived == 0], x = \"Embarked\",ax=ax2)\n",
    "ax2.set_title('Not Survived By Embarked')\n",
    "sns.countplot(data = train_e, x = \"Embarked\",ax=ax3)\n",
    "ax3.set_title('Passange By Embarked')\n",
    "plt.show()"
   ]
  },
  {
   "cell_type": "markdown",
   "metadata": {},
   "source": [
    "Most of the passengers embarked form port S, and those are the ones with the least survival rate. Port C had second highest number of passengers getting on board and those are the ones with the highest survival rate. "
   ]
  },
  {
   "cell_type": "code",
   "execution_count": null,
   "metadata": {},
   "outputs": [],
   "source": [
    "sns.set_style(\"darkgrid\")\n",
    "f, (ax1, ax2, ax3) = plt.subplots(1, 3, sharey=True, figsize=(14,6))\n",
    "sns.countplot(data = train_e[train_e.Survived > 0], x = \"Sex\", ax=ax1)\n",
    "ax1.set_title('Survived by Gender')\n",
    "sns.countplot(data = train_e[train_e.Survived == 0], x = \"Sex\", ax=ax2)\n",
    "ax2.set_title('Not Survived By gender')\n",
    "sns.countplot(data = train_e, x = \"Sex\",ax=ax3)\n",
    "ax3.set_title('Passange By Gender')\n",
    "plt.show()"
   ]
  },
  {
   "cell_type": "markdown",
   "metadata": {},
   "source": [
    "From the data above we can see that although the population of the ship was male dominant but the survival rate was highly dependent on the gender. Females tend to have a higher survival rate as compared to the males. "
   ]
  },
  {
   "cell_type": "code",
   "execution_count": null,
   "metadata": {},
   "outputs": [],
   "source": [
    "grid = sns.FacetGrid(train_e, row='Sex', col='Survived')\n",
    "g = grid.map(plt.hist, 'Age', bins =10)\n",
    "plt.show()"
   ]
  },
  {
   "cell_type": "markdown",
   "metadata": {},
   "source": [
    "From the data above we can see that females had a higher change of surival as compared to the males. "
   ]
  },
  {
   "cell_type": "code",
   "execution_count": null,
   "metadata": {},
   "outputs": [],
   "source": [
    "grid = sns.FacetGrid(train_e, row='Embarked', col='Survived')\n",
    "g =  grid.map(plt.hist, 'Age', bins =10)\n",
    "plt.show()"
   ]
  },
  {
   "cell_type": "markdown",
   "metadata": {},
   "source": [
    "The data visualization above tells us that although most of the people embarked from C they didn't have as much as high chance of survival as compared to Embarked class Q. "
   ]
  },
  {
   "cell_type": "code",
   "execution_count": null,
   "metadata": {},
   "outputs": [],
   "source": [
    "train_e[train_e['Embarked'].isnull() == True]"
   ]
  },
  {
   "cell_type": "markdown",
   "metadata": {},
   "source": [
    "Let's check other members of Icard and Stone family because these two are the only family that are missing Embarked values. "
   ]
  },
  {
   "cell_type": "code",
   "execution_count": null,
   "metadata": {},
   "outputs": [],
   "source": [
    "train_e[(train_e['FamilyName'].isin(['Icard','Stone']) == True) & (train_e['Embarked'].isnull() == False)].shape[0]"
   ]
  },
  {
   "cell_type": "markdown",
   "metadata": {},
   "source": [
    "There are no other family members from Icard and Stone. Therefore, we decide to populate it with majority class. 'S' is the Embarked where most of the people boarded. Hence populatiing missing Embarked info with 'S'"
   ]
  },
  {
   "cell_type": "code",
   "execution_count": null,
   "metadata": {},
   "outputs": [],
   "source": [
    "train_e['Embarked'].fillna('S',inplace = True)\n",
    "test_e['Embarked'].fillna('S',inplace = True)"
   ]
  },
  {
   "cell_type": "code",
   "execution_count": null,
   "metadata": {},
   "outputs": [],
   "source": [
    "sns.set_style(\"white\")\n",
    "f, (ax1, ax2, ax3) = plt.subplots(1, 3, figsize=(14,6))\n",
    "sns.countplot(data = train_e[train_e.Survived > 0], x = \"Embarked\",ax=ax1)\n",
    "ax1.set_title('Survived by Embarked')\n",
    "sns.countplot(data = train_e[train_e.Survived == 0], x = \"Embarked\",ax=ax2)\n",
    "ax2.set_title('Not Survived By Embarked')\n",
    "sns.countplot(data = train_e, x = \"Embarked\",ax=ax3)\n",
    "ax3.set_title('Passange By Embarked')\n",
    "plt.show()"
   ]
  },
  {
   "cell_type": "markdown",
   "metadata": {},
   "source": [
    "The plot above shows the embarked information by gender. We can see that most of the passengers embarked from port S but those are the ones with the least proportion of survival. Very few people embarked from port C but those are the ones with the highest chances of survival.  "
   ]
  },
  {
   "cell_type": "code",
   "execution_count": null,
   "metadata": {},
   "outputs": [],
   "source": [
    "train_e['title'] = train_e['Name'].str.split(\",\",expand=True)[1].str.split(\" \",expand=True)[1]\n",
    "test_e['title'] = test['Name'].str.split(\",\",expand=True)[1].str.split(\" \",expand=True)[1] "
   ]
  },
  {
   "cell_type": "code",
   "execution_count": null,
   "metadata": {},
   "outputs": [],
   "source": [
    "plt.figure(figsize=(18,5))\n",
    "sns.set_style(\"white\")\n",
    "g =sns.countplot(data = train_e, x = \"title\")\n",
    "g.set_title('Popular Title')\n",
    "plt.show()"
   ]
  },
  {
   "cell_type": "markdown",
   "metadata": {},
   "source": [
    "Different titles for the passengers on board"
   ]
  },
  {
   "cell_type": "code",
   "execution_count": null,
   "metadata": {},
   "outputs": [],
   "source": [
    "test_e.loc[test_e['title'].isin(['Capt.','Dr.','Rev.','Major.','Col.','the','Don.', 'Jonkheer.', 'Sir.', 'Lady.']), 'title'] = 'Spl.Prof'\n",
    "train_e.loc[train_e['title'].isin(['Capt.','Dr.','Rev.','Major.','Col.','the','Don.', 'Jonkheer.', 'Sir.', 'Lady.']), 'title'] = 'Spl.Prof'"
   ]
  },
  {
   "cell_type": "markdown",
   "metadata": {},
   "source": [
    "Merging special titles into one title Special Profession"
   ]
  },
  {
   "cell_type": "code",
   "execution_count": null,
   "metadata": {},
   "outputs": [],
   "source": [
    "train_e.loc[train_e['title'].isin(['Ms.','Mlle.']), 'title'] = 'Miss.'\n",
    "train_e.loc[train_e['title'].isin(['Mme.']), 'title'] = 'Mrs.'"
   ]
  },
  {
   "cell_type": "code",
   "execution_count": null,
   "metadata": {},
   "outputs": [],
   "source": [
    "test_e.loc[test_e['title'].isin(['Ms.','Mlle.']), 'title'] = 'Miss.'\n",
    "test_e.loc[test_e['title'].isin(['Mme.']), 'title'] = 'Mrs.'"
   ]
  },
  {
   "cell_type": "code",
   "execution_count": null,
   "metadata": {},
   "outputs": [],
   "source": [
    "plt.figure(figsize=(18,5))\n",
    "sns.set_style(\"white\")\n",
    "g =sns.countplot(data = train_e, x = \"title\")\n",
    "g.set_title('Popular Title')\n",
    "plt.show()"
   ]
  },
  {
   "cell_type": "markdown",
   "metadata": {},
   "source": [
    "All the different titles have been grouped to form one or more new title therefore maximizing the inter class similarity. "
   ]
  },
  {
   "cell_type": "markdown",
   "metadata": {},
   "source": [
    "Since it is harder to deal with categorical variables for the tiles, we will change them to numerical form.  We will also do the same for the sex."
   ]
  },
  {
   "cell_type": "code",
   "execution_count": null,
   "metadata": {},
   "outputs": [],
   "source": [
    "train_e[train_e.Age.isnull()]['title'].value_counts()"
   ]
  },
  {
   "cell_type": "code",
   "execution_count": null,
   "metadata": {},
   "outputs": [],
   "source": [
    "test_e[test_e.Age.isnull()]['title'].value_counts()"
   ]
  },
  {
   "cell_type": "code",
   "execution_count": null,
   "metadata": {},
   "outputs": [],
   "source": [
    "mr_mean_age = round(train_e[((train_e.title == 'Mr.') & ( train_e.Age != np.nan))]['Age'].mean())\n",
    "miss_mean_age = round(train_e[((train_e.title == 'Miss.') & ( train_e.Age != np.nan))]['Age'].mean())\n",
    "mrs_mean_age = round(train_e[((train_e.title == 'Mrs.') & ( train_e.Age != np.nan))]['Age'].mean())\n",
    "master_mean_age = round(train_e[((train_e.title == 'Master.') & ( train_e.Age != np.nan))]['Age'].mean())\n",
    "spl_mean_age = round(train_e[((train_e.title == 'Spl.Prof') & ( train_e.Age != np.nan))]['Age'].mean())"
   ]
  },
  {
   "cell_type": "code",
   "execution_count": null,
   "metadata": {},
   "outputs": [],
   "source": [
    "print(mr_mean_age,miss_mean_age,mrs_mean_age,master_mean_age,spl_mean_age)"
   ]
  },
  {
   "cell_type": "code",
   "execution_count": null,
   "metadata": {},
   "outputs": [],
   "source": [
    "train_e['Age'] = train_e.apply(\n",
    "    lambda row: mr_mean_age if ((np.isnan(row['Age'])) & (row['title'] == 'Mr.')) else row['Age'], axis = 1)\n",
    "train_e['Age'] = train_e.apply(\n",
    "    lambda row: mrs_mean_age if ((np.isnan(row['Age'])) & (row['title'] == 'Mrs.')) else row['Age'], axis = 1)\n",
    "train_e['Age'] = train_e.apply(\n",
    "    lambda row: miss_mean_age if ((np.isnan(row['Age'])) & (row['title'] == 'Miss.')) else row['Age'], axis = 1)\n",
    "train_e['Age'] = train_e.apply(\n",
    "    lambda row: master_mean_age if ((np.isnan(row['Age'])) & (row['title'] == 'Master.')) else row['Age'], axis = 1)\n",
    "train_e['Age'] = train_e.apply(\n",
    "    lambda row: spl_mean_age if ((np.isnan(row['Age'])) & (row['title'] == 'Spl.Prof')) else row['Age'], axis = 1)"
   ]
  },
  {
   "cell_type": "code",
   "execution_count": null,
   "metadata": {},
   "outputs": [],
   "source": [
    "test_e['Age'] = test_e.apply(\n",
    "    lambda row: mr_mean_age if ((np.isnan(row['Age'])) & (row['title'] == 'Mr.')) else row['Age'], axis = 1)\n",
    "test_e['Age'] = test_e.apply(\n",
    "    lambda row: mrs_mean_age if ((np.isnan(row['Age'])) & (row['title'] == 'Mrs.')) else row['Age'], axis = 1)\n",
    "test_e['Age'] = test_e.apply(\n",
    "    lambda row: miss_mean_age if ((np.isnan(row['Age'])) & (row['title'] == 'Miss.')) else row['Age'], axis = 1)\n",
    "test_e['Age'] = test_e.apply(\n",
    "    lambda row: master_mean_age if ((np.isnan(row['Age'])) & (row['title'] == 'Master.')) else row['Age'], axis = 1)"
   ]
  },
  {
   "cell_type": "code",
   "execution_count": null,
   "metadata": {},
   "outputs": [],
   "source": [
    "train_e.isnull().sum()\n",
    "train_z = train_e.copy()"
   ]
  },
  {
   "cell_type": "markdown",
   "metadata": {},
   "source": [
    "### Feature Engineering"
   ]
  },
  {
   "cell_type": "markdown",
   "metadata": {},
   "source": [
    "##### Gender One Hot encoding"
   ]
  },
  {
   "cell_type": "code",
   "execution_count": null,
   "metadata": {},
   "outputs": [],
   "source": [
    "train_e = train_z.copy()"
   ]
  },
  {
   "cell_type": "code",
   "execution_count": null,
   "metadata": {},
   "outputs": [],
   "source": [
    "train_e['Sex'] = [1 if x == 'male' else 0 for x in train_e['Sex']]\n",
    "test_e['Sex'] = [1 if x == 'male' else 0 for x in test_e['Sex']]"
   ]
  },
  {
   "cell_type": "code",
   "execution_count": null,
   "metadata": {},
   "outputs": [],
   "source": [
    "train_e.isnull().sum()"
   ]
  },
  {
   "cell_type": "code",
   "execution_count": null,
   "metadata": {},
   "outputs": [],
   "source": [
    "test_e.isnull().sum()"
   ]
  },
  {
   "cell_type": "code",
   "execution_count": null,
   "metadata": {},
   "outputs": [],
   "source": [
    "title = {\"Spl.Prof\": 1, \"Mr.\": 2, \"Miss.\": 3, \"Mrs.\": 4, \"Master.\": 5}\n",
    "train_e['title'] = train_e['title'].map(title)\n",
    "test_e['title'] = test_e['title'].map(title)"
   ]
  },
  {
   "cell_type": "code",
   "execution_count": null,
   "metadata": {},
   "outputs": [],
   "source": [
    "Embarked_label = {\"S\": 1, \"C\": 2, \"Q\": 3}\n",
    "train_e['Embarked'] = train_e['Embarked'].map(Embarked_label)\n",
    "test_e['Embarked'] = test_e['Embarked'].map(Embarked_label)"
   ]
  },
  {
   "cell_type": "code",
   "execution_count": null,
   "metadata": {},
   "outputs": [],
   "source": [
    "train_e.head()"
   ]
  },
  {
   "cell_type": "code",
   "execution_count": null,
   "metadata": {},
   "outputs": [],
   "source": [
    "test_e.head()"
   ]
  },
  {
   "cell_type": "markdown",
   "metadata": {},
   "source": [
    "The way we decided to tackle the missing information of age is to fill in values with the median values of similar pclass and SibSp. We decided to choose those two features because from the coorelation table below we can see that Pclass and the SibSb have the largeset coorelation with the Age.  "
   ]
  },
  {
   "cell_type": "code",
   "execution_count": null,
   "metadata": {},
   "outputs": [],
   "source": [
    "train_Name = train_e.pop('Name')\n",
    "train_ticket = train_e.pop('Ticket')\n",
    "train_FamilyName = train_e.pop('FamilyName')"
   ]
  },
  {
   "cell_type": "code",
   "execution_count": null,
   "metadata": {},
   "outputs": [],
   "source": [
    "test_Name = test_e.pop('Name')\n",
    "test_ticket = test_e.pop('Ticket')\n",
    "test_FamilyName = test_e.pop('FamilyName')"
   ]
  },
  {
   "cell_type": "code",
   "execution_count": null,
   "metadata": {},
   "outputs": [],
   "source": [
    "train_e.head(10)"
   ]
  },
  {
   "cell_type": "code",
   "execution_count": null,
   "metadata": {},
   "outputs": [],
   "source": [
    "train_e['family'] = train_e['SibSp'] + train_e['Parch']\n",
    "test_e['family'] = test_e['SibSp'] + test_e['Parch']"
   ]
  },
  {
   "cell_type": "code",
   "execution_count": null,
   "metadata": {},
   "outputs": [],
   "source": [
    "test_e['family'] = test_e.apply(\n",
    "    lambda row: 1 if (row['family'] > 0 ) else 0, axis = 1)"
   ]
  },
  {
   "cell_type": "code",
   "execution_count": null,
   "metadata": {},
   "outputs": [],
   "source": [
    "train_e['family'] = train_e.apply(\n",
    "    lambda row: 1 if (row['family'] > 0 ) else 0, axis = 1)"
   ]
  },
  {
   "cell_type": "code",
   "execution_count": null,
   "metadata": {},
   "outputs": [],
   "source": [
    "train_SibSp = train_e.pop('SibSp')\n",
    "train_Parch = train_e.pop('Parch')\n",
    "\n",
    "test_SibSp = test_e.pop('SibSp')\n",
    "test_Parch = test_e.pop('Parch')"
   ]
  },
  {
   "cell_type": "code",
   "execution_count": null,
   "metadata": {},
   "outputs": [],
   "source": [
    "train_e.head()"
   ]
  },
  {
   "cell_type": "code",
   "execution_count": null,
   "metadata": {},
   "outputs": [],
   "source": [
    "s = pd.Series(np.array([0, 5, 12, 18, 21, 30, 40, 50, 60, 70, 80]),\n",
    "    index=['toddler','toddler','Young', 'Teen', 'Adult', '30s','40s','50s','60s','70s','80s'])"
   ]
  },
  {
   "cell_type": "code",
   "execution_count": null,
   "metadata": {},
   "outputs": [],
   "source": [
    "train_e['Age_Bucket'] = pd.cut(train_e['Age'],s)\n",
    "test_e['Age_Bucket'] = pd.cut(test_e['Age'],s)"
   ]
  },
  {
   "cell_type": "code",
   "execution_count": null,
   "metadata": {},
   "outputs": [],
   "source": [
    "test_e.head()"
   ]
  },
  {
   "cell_type": "code",
   "execution_count": null,
   "metadata": {},
   "outputs": [],
   "source": [
    "train_e = pd.concat([train_e, pd.get_dummies(train_e['Pclass'], prefix='Pclass',drop_first=True)],axis = 1)\n",
    "train_e = pd.concat([train_e, pd.get_dummies(train_e['Embarked'], prefix='Embarked',drop_first=True)],axis = 1)\n",
    "train_e = pd.concat([train_e, pd.get_dummies(train_e['title'], prefix='title',drop_first=True)],axis = 1)\n",
    "train_e = pd.concat([train_e, pd.get_dummies(train_e['Age_Bucket'], prefix='Age_Bucket',drop_first=True)],axis = 1)\n",
    "train_e = pd.concat([train_e, pd.get_dummies(train_e['Sex'], prefix='Sex',drop_first=True)],axis = 1)"
   ]
  },
  {
   "cell_type": "code",
   "execution_count": null,
   "metadata": {},
   "outputs": [],
   "source": [
    "test_e = pd.concat([test_e, pd.get_dummies(train_e['Pclass'], prefix='Pclass',drop_first=True)],axis = 1)\n",
    "test_e = pd.concat([test_e, pd.get_dummies(train_e['Embarked'], prefix='Embarked',drop_first=True)],axis = 1)\n",
    "test_e = pd.concat([test_e, pd.get_dummies(train_e['title'], prefix='title',drop_first=True)],axis = 1)\n",
    "test_e = pd.concat([test_e, pd.get_dummies(train_e['Age_Bucket'], prefix='Age_Bucket',drop_first=True)],axis = 1)\n",
    "test_e = pd.concat([test_e, pd.get_dummies(train_e['Sex'], prefix='Sex',drop_first=True)],axis = 1)"
   ]
  },
  {
   "cell_type": "code",
   "execution_count": null,
   "metadata": {},
   "outputs": [],
   "source": [
    "train_e.head(2).T"
   ]
  },
  {
   "cell_type": "code",
   "execution_count": null,
   "metadata": {},
   "outputs": [],
   "source": [
    "train_e.pop('Pclass')\n",
    "train_e.pop('Age')\n",
    "train_e.pop('Sex')\n",
    "train_e.pop('Embarked')\n",
    "train_e.pop('title')\n",
    "Age_Bucket_train = train_e.pop('Age_Bucket')"
   ]
  },
  {
   "cell_type": "code",
   "execution_count": null,
   "metadata": {},
   "outputs": [],
   "source": [
    "test_e.pop('Pclass')\n",
    "test_e.pop('Age')\n",
    "test_e.pop('Sex')\n",
    "test_e.pop('Embarked')\n",
    "test_e.pop('title')\n",
    "Age_Bucket_test = test_e.pop('Age_Bucket')"
   ]
  },
  {
   "cell_type": "code",
   "execution_count": null,
   "metadata": {},
   "outputs": [],
   "source": [
    "test_e.head(3)"
   ]
  },
  {
   "cell_type": "code",
   "execution_count": null,
   "metadata": {},
   "outputs": [],
   "source": [
    "train_e.to_csv('clean_train.csv', sep=',')\n",
    "y = train_e.pop('Survived')\n",
    "X = train_e"
   ]
  },
  {
   "cell_type": "code",
   "execution_count": null,
   "metadata": {},
   "outputs": [],
   "source": [
    "X.head()"
   ]
  },
  {
   "cell_type": "code",
   "execution_count": null,
   "metadata": {},
   "outputs": [],
   "source": [
    "from sklearn.model_selection import train_test_split\n",
    "\n",
    "X_train, X_test, y_train, y_test = train_test_split(X, y, test_size =0.05)"
   ]
  },
  {
   "cell_type": "code",
   "execution_count": null,
   "metadata": {},
   "outputs": [],
   "source": [
    "def model_summary(model_obj, model_name):\n",
    "    model_obj.fit(X_train, y_train)\n",
    "    print('-'*40)\n",
    "    print('Model : {}'.format(model_name))\n",
    "    print('-'*40)\n",
    "    print('Traing dataset score: {}'.format(model_obj.score(X_train, y_train)))\n",
    "    model_pred = model_obj.predict(X_test)\n",
    "    print('Test Data Metrics')\n",
    "    print ('Accuracy Score :\\t{:.4}'.format(accuracy_score(y_test,model_pred)))\n",
    "    print ('Recall Score :\\t\\t{:.4}'.format(recall_score(y_test,model_pred)))\n",
    "    print ('Precision Score :\\t{:.4}'.format(precision_score(y_test,model_pred)))\n",
    "    print(confusion_matrix(y_test, model_pred))\n",
    "    print(cross_val_score(model_obj, X, y, cv=5))  "
   ]
  },
  {
   "cell_type": "code",
   "execution_count": null,
   "metadata": {},
   "outputs": [],
   "source": [
    "from sklearn.linear_model import LogisticRegression\n",
    "from sklearn.ensemble import RandomForestClassifier, GradientBoostingClassifier\n",
    "from sklearn.svm import SVC\n",
    "from sklearn.metrics import confusion_matrix\n",
    "from sklearn.metrics import precision_score\n",
    "from sklearn.metrics import recall_score\n",
    "from sklearn.metrics import accuracy_score\n",
    "from sklearn.metrics import confusion_matrix\n",
    "from sklearn.model_selection import cross_val_score\n",
    "import warnings\n",
    "warnings.filterwarnings('ignore')\n",
    "\n",
    "logit = LogisticRegression(solver='newton-cg', random_state=42, max_iter=1000,)\n",
    "rf = RandomForestClassifier(n_estimators=30, random_state=42)\n",
    "linear_svc = SVC(kernel='linear')\n",
    "rbf_svc = SVC(kernel='rbf')\n",
    "poly_svc = SVC(kernel='poly')\n",
    "gvc = GradientBoostingClassifier()\n",
    "\n",
    "\n",
    "model_summary(logit, 'LogisticRegression')\n",
    "model_summary(rf, 'Random Forest')\n",
    "model_summary(linear_svc, 'Linear SVM')\n",
    "model_summary(rbf_svc, 'Radial SVM')\n",
    "model_summary(poly_svc, 'Ploynominal SVM')\n",
    "model_summary(gvc, 'GradientBoostingClassifier')"
   ]
  },
  {
   "cell_type": "code",
   "execution_count": null,
   "metadata": {},
   "outputs": [],
   "source": [
    "from sklearn.model_selection import GridSearchCV\n",
    "from sklearn.pipeline import Pipeline\n",
    "\n",
    "pipe = Pipeline([('classifier' , LogisticRegression())])\n",
    "\n",
    "param_grid = [\n",
    "    {'classifier' : [LogisticRegression()],\n",
    "    # 'classifier__penalty' : ['l1', 'l2'],\n",
    "    'classifier__C' : [0.001,0.01,0.1,10,100,1000],\n",
    "    'classifier__solver' : ['liblinear' , 'newton-cg', 'sag' , 'lbfgs' ]}\n",
    "     #'max_iter': [100,300,500,700, 900, 1000]}   \n",
    "]\n",
    "\n",
    "# Create grid search object\n",
    "\n",
    "clf = GridSearchCV(pipe, param_grid = param_grid, cv = 5, verbose=True, n_jobs=-1)\n",
    "\n",
    "# Fit on data\n",
    "\n",
    "best_clf = clf.fit(X_train, y_train)"
   ]
  },
  {
   "cell_type": "code",
   "execution_count": null,
   "metadata": {},
   "outputs": [],
   "source": [
    "best_clf"
   ]
  },
  {
   "cell_type": "code",
   "execution_count": null,
   "metadata": {},
   "outputs": [],
   "source": [
    "best_clf.score(X_train, y_train)"
   ]
  },
  {
   "cell_type": "code",
   "execution_count": null,
   "metadata": {},
   "outputs": [],
   "source": [
    "model_pred = best_clf.predict(X_test)\n",
    "print('Test Data Metrics')\n",
    "print ('Accuracy Score :\\t{:.4}'.format(accuracy_score(y_test,model_pred)))\n",
    "print ('Recall Score :\\t\\t{:.4}'.format(recall_score(y_test,model_pred)))\n",
    "print ('Precision Score :\\t{:.4}'.format(precision_score(y_test,model_pred)))\n",
    "print(confusion_matrix(y_test, model_pred))"
   ]
  },
  {
   "cell_type": "code",
   "execution_count": null,
   "metadata": {},
   "outputs": [],
   "source": []
  },
  {
   "cell_type": "code",
   "execution_count": null,
   "metadata": {},
   "outputs": [],
   "source": []
  },
  {
   "cell_type": "code",
   "execution_count": null,
   "metadata": {},
   "outputs": [],
   "source": [
    "train_e[train_e.columns[0:]].corr()['Age'][:]"
   ]
  },
  {
   "cell_type": "code",
   "execution_count": null,
   "metadata": {},
   "outputs": [],
   "source": [
    "# age_matrix = np.zeros((8,3))\n",
    "\n",
    "# for i in range(0, 8):\n",
    "#     for j in range(0, 3):\n",
    "#         expected_value = train_e[(train_e['SibSp'] == i) & (train_e['Pclass'] == j+1)]['Age'].dropna()\n",
    "#         age = expected_value.median()\n",
    "#         age_matrix[i,j] = float(age/0.5 + 0.5 ) * 0.5\n",
    "    \n",
    "# for i in range(0, 8):\n",
    "#     for j in range(0, 3):\n",
    "#         train_e.loc[(train_e.Age.isnull()) & (train_e.SibSp == i) & (train_e.Pclass == j+1), 'Age'] = age_matrix[i,j]       \n",
    "# train_e['Age'] = train_e['Age'].astype(float)"
   ]
  },
  {
   "cell_type": "code",
   "execution_count": null,
   "metadata": {},
   "outputs": [],
   "source": [
    "# test_fare_median = test_e['Fare'].median()\n",
    "# test_e['Fare'].fillna(test_fare_median, inplace=True)"
   ]
  }
 ],
 "metadata": {
  "kernelspec": {
   "display_name": "Python 3",
   "language": "python",
   "name": "python3"
  },
  "language_info": {
   "codemirror_mode": {
    "name": "ipython",
    "version": 3
   },
   "file_extension": ".py",
   "mimetype": "text/x-python",
   "name": "python",
   "nbconvert_exporter": "python",
   "pygments_lexer": "ipython3",
   "version": "3.7.1"
  }
 },
 "nbformat": 4,
 "nbformat_minor": 2
}
